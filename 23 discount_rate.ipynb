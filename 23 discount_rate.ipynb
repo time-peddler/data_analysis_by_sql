{
 "cells": [
  {
   "cell_type": "code",
   "execution_count": 4,
   "id": "c04f892a",
   "metadata": {},
   "outputs": [],
   "source": [
    "import pandas as pd"
   ]
  },
  {
   "cell_type": "code",
   "execution_count": 51,
   "id": "472ea3e7",
   "metadata": {},
   "outputs": [],
   "source": [
    "df = pd.read_csv(\"C:/Users/TIME.DELL0/Desktop/real_arpu不在lv_type范围内的清单及其折扣率 v1.csv\", encoding='gbk')"
   ]
  },
  {
   "cell_type": "code",
   "execution_count": 55,
   "id": "a22a5ab4",
   "metadata": {},
   "outputs": [
    {
     "data": {
      "text/plain": [
       "Index(['USER_ID', 'PRODUCT_NO', 'MONTH_ID', 'LV_TYPE', 'STATUS', 'ARPU',\n",
       "       'ZK_ARPU', 'REAL_ARPU', 'ITNM', 'TOTAL_VALUE', 'REGION_NAME',\n",
       "       'CHANNEL_NAME', 'CHANNEL_CODE', 'DISCOUNT_RATE'],\n",
       "      dtype='object')"
      ]
     },
     "execution_count": 55,
     "metadata": {},
     "output_type": "execute_result"
    }
   ],
   "source": [
    "df.columns"
   ]
  },
  {
   "cell_type": "code",
   "execution_count": 25,
   "id": "8404fe9f",
   "metadata": {},
   "outputs": [],
   "source": [
    "# 计算各个资费套餐的平均折扣率\n",
    "average_discount_rate_by_itnm = df.groupby('ITNM')['DISCOUNT_RATE'].mean().reset_index().sort_values(by='DISCOUNT_RATE', ascending=False)\n",
    "average_discount_rate_by_itnm.to_excel('../23 各个资费套餐的平均折扣率.xlsx')"
   ]
  },
  {
   "cell_type": "code",
   "execution_count": 50,
   "id": "67a1c359",
   "metadata": {},
   "outputs": [],
   "source": [
    "#计算状态为“正常使用”的折扣率\n",
    "filtered_df = df[df['STATUS'].str.strip() == '正常在用']\n",
    "ok_average_discount_rate_by_itnm = filtered_df.groupby('ITNM')['DISCOUNT_RATE'].mean().reset_index().sort_values(by='DISCOUNT_RATE', ascending=False)\n",
    "ok_average_discount_rate_by_itnm.to_excel('../23 正常在用的用户各个资费套餐的平均折扣率.xlsx')"
   ]
  },
  {
   "cell_type": "code",
   "execution_count": 13,
   "id": "0145c280",
   "metadata": {},
   "outputs": [],
   "source": [
    "less_w.to_excel('../23 real_arpu不在lv_type范围内的清单及其折扣率.xlsx')"
   ]
  },
  {
   "cell_type": "code",
   "execution_count": 27,
   "id": "2fdd9628",
   "metadata": {},
   "outputs": [],
   "source": []
  },
  {
   "cell_type": "code",
   "execution_count": 52,
   "id": "79259799",
   "metadata": {},
   "outputs": [],
   "source": [
    "df.to_excel('../23 real_arpu不在lv_type范围内的清单及其折扣率 v1.xlsx')"
   ]
  },
  {
   "cell_type": "code",
   "execution_count": 56,
   "id": "52176a81",
   "metadata": {},
   "outputs": [
    {
     "data": {
      "text/plain": [
       "LV_TYPE\n",
       "大于等于68小于168    323940\n",
       "大于等于168        156824\n",
       "Name: USER_ID, dtype: int64"
      ]
     },
     "execution_count": 56,
     "metadata": {},
     "output_type": "execute_result"
    }
   ],
   "source": [
    "df.groupby('LV_TYPE')['USER_ID'].nunique().sort_values(ascending=False)"
   ]
  },
  {
   "cell_type": "code",
   "execution_count": 58,
   "id": "deddc712",
   "metadata": {},
   "outputs": [
    {
     "data": {
      "text/plain": [
       "479793"
      ]
     },
     "execution_count": 58,
     "metadata": {},
     "output_type": "execute_result"
    }
   ],
   "source": [
    "df['USER_ID'].nunique()"
   ]
  },
  {
   "cell_type": "code",
   "execution_count": null,
   "id": "9a40fb1a",
   "metadata": {},
   "outputs": [],
   "source": []
  }
 ],
 "metadata": {
  "kernelspec": {
   "display_name": "Python 3 (ipykernel)",
   "language": "python",
   "name": "python3"
  },
  "language_info": {
   "codemirror_mode": {
    "name": "ipython",
    "version": 3
   },
   "file_extension": ".py",
   "mimetype": "text/x-python",
   "name": "python",
   "nbconvert_exporter": "python",
   "pygments_lexer": "ipython3",
   "version": "3.9.1"
  }
 },
 "nbformat": 4,
 "nbformat_minor": 5
}
